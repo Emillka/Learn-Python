{
  "nbformat": 4,
  "nbformat_minor": 0,
  "metadata": {
    "colab": {
      "provenance": [],
      "authorship_tag": "ABX9TyPjO531SvjxkSj78UZz7LUD",
      "include_colab_link": true
    },
    "kernelspec": {
      "name": "python3",
      "display_name": "Python 3"
    },
    "language_info": {
      "name": "python"
    }
  },
  "cells": [
    {
      "cell_type": "markdown",
      "metadata": {
        "id": "view-in-github",
        "colab_type": "text"
      },
      "source": [
        "<a href=\"https://colab.research.google.com/github/Emillka/Python_learn_projects/blob/main/fin_website_links.ipynb\" target=\"_parent\"><img src=\"https://colab.research.google.com/assets/colab-badge.svg\" alt=\"Open In Colab\"/></a>"
      ]
    },
    {
      "cell_type": "code",
      "execution_count": null,
      "metadata": {
        "id": "Zls2NoEFMS2v"
      },
      "outputs": [],
      "source": [
        "import re\n",
        "import pandas as pd\n",
        "from bs4 import BeautifulSoup\n",
        "from requests import get  # Dodano import\n",
        "\n",
        "def pobierz_zawartosc_html(url):\n",
        "    response = get(url)\n",
        "    return response.text if response.status_code == 200 else None\n",
        "\n",
        "def znajdz_odnosniki_do_strony(html):\n",
        "    if html is None:\n",
        "        return set()\n",
        "\n",
        "    soup = BeautifulSoup(html, 'html.parser')\n",
        "    odnosniki = soup.find_all('a', href=re.compile(r'^https?://(?:www\\.)?nazwa-domeny\\.pl/'))\n",
        "\n",
        "    return {odnosnik['href'] for odnosnik in odnosniki}\n",
        "\n",
        "if __name__ == \"__main__\":\n",
        "    nazwa_pliku = \"tutaj wkleić ścieżkę do pliku excel z adresami url do sprawdzenia\"\n",
        "    df = pd.read_excel(nazwa_pliku)\n",
        "\n",
        "    if 'url' in df.columns:\n",
        "        adresy_url = df['url'].dropna().tolist()\n",
        "        if not adresy_url:\n",
        "            print(\"Nie znaleziono adresów URL w pliku.\")\n",
        "        else:\n",
        "            print(\"Sprawdzanie odnośników dla podanych adresów URL:\")\n",
        "            for url in adresy_url:\n",
        "                zawartosc_html = pobierz_zawartosc_html(url)\n",
        "                if zawartosc_html is not None:  # Dodano sprawdzenie, czy pobranie zawartości było udane\n",
        "                    odnosniki = znajdz_odnosniki_do_strony(zawartosc_html)\n",
        "                    if odnosniki:\n",
        "                        print(f\"Adres URL: {url}\")\n",
        "                        for odnosnik in odnosniki:\n",
        "                            print(odnosnik)\n",
        "                    else:\n",
        "                        print(f\"Adres URL: {url} - Brak odnośników do witryny lub jej subdomen.\")\n",
        "                else:\n",
        "                    print(f\"Nie udało się pobrać zawartości HTML dla adresu URL: {url}\")\n",
        "    else:\n",
        "        print(\"Nie znaleziono kolumny 'url' w pliku XLSX.\")\n"
      ]
    }
  ]
}