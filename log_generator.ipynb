{
  "nbformat": 4,
  "nbformat_minor": 0,
  "metadata": {
    "colab": {
      "provenance": [],
      "authorship_tag": "ABX9TyP96jXe37hncihgRIuvsB9H",
      "include_colab_link": true
    },
    "kernelspec": {
      "name": "python3",
      "display_name": "Python 3"
    },
    "language_info": {
      "name": "python"
    }
  },
  "cells": [
    {
      "cell_type": "markdown",
      "metadata": {
        "id": "view-in-github",
        "colab_type": "text"
      },
      "source": [
        "<a href=\"https://colab.research.google.com/github/Emillka/Learn-Python/blob/main/log_generator.ipynb\" target=\"_parent\"><img src=\"https://colab.research.google.com/assets/colab-badge.svg\" alt=\"Open In Colab\"/></a>"
      ]
    },
    {
      "cell_type": "code",
      "execution_count": null,
      "metadata": {
        "id": "fXj2RmhtIBPa"
      },
      "outputs": [],
      "source": [
        "import datetime\n",
        "import time\n",
        "\n",
        "def log(message, dt=None):\n",
        "    if dt is None:\n",
        "        dt = datetime.datetime.utcnow()\n",
        "    print(dt, message)\n",
        "\n",
        "# %%\n",
        "\n",
        "def logi(*args):\n",
        "    for command in args:\n",
        "        log(command)\n",
        "        time.sleep(2)\n",
        "logi(\"Activation\", \"Restart\", \"Logging out\", \"Login\")"
      ]
    }
  ]
}