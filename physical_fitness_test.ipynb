{
  "nbformat": 4,
  "nbformat_minor": 0,
  "metadata": {
    "colab": {
      "provenance": [],
      "authorship_tag": "ABX9TyM5t4ybzLcVHJr/Ar1c4j1h",
      "include_colab_link": true
    },
    "kernelspec": {
      "name": "python3",
      "display_name": "Python 3"
    },
    "language_info": {
      "name": "python"
    }
  },
  "cells": [
    {
      "cell_type": "markdown",
      "metadata": {
        "id": "view-in-github",
        "colab_type": "text"
      },
      "source": [
        "<a href=\"https://colab.research.google.com/github/Emillka/Learn-Python/blob/main/physical_fitness_test.ipynb\" target=\"_parent\"><img src=\"https://colab.research.google.com/assets/colab-badge.svg\" alt=\"Open In Colab\"/></a>"
      ]
    },
    {
      "cell_type": "code",
      "source": [
        "import matplotlib.pyplot as plt\n",
        "\n",
        "class Exam:\n",
        "    def __init__(self):\n",
        "        self.pushups = 0\n",
        "        self.pullups = 0\n",
        "        self.situps = 0\n",
        "\n",
        "    def get_data(self):\n",
        "        while True:\n",
        "            try:\n",
        "                self.pushups = int(input(\"Enter the number of push-ups performed: \"))\n",
        "                if self.pushups < 50:\n",
        "                    raise ValueError(\"Too few push-ups. Try again and aim for at least 50 repetitions!\")\n",
        "\n",
        "                self.pullups = int(input(\"Enter the number of pull-ups performed: \"))\n",
        "                if self.pullups < 10:\n",
        "                    raise ValueError(\"Too few pull-ups. Try again and aim for at least 10 repetitions!\")\n",
        "\n",
        "                self.situps = int(input(\"Enter the number of sit-ups performed: \"))\n",
        "                if self.situps < 90:\n",
        "                    raise ValueError(\"Too few sit-ups. Try again and aim for at least 90 repetitions!\")\n",
        "\n",
        "                break\n",
        "            except ValueError as ve:\n",
        "                print(ve)\n",
        "\n",
        "    def calculate_average(self):\n",
        "        return (self.pushups + self.pullups + self.situps) / 3\n",
        "\n",
        "    def get_grade(self):\n",
        "        average = self.calculate_average()\n",
        "        if average >= 50:\n",
        "            return \"Congratulations! You achieved the maximum possible score on the fitness exam!\"\n",
        "        elif average >= 30:\n",
        "            return \"Congratulations! You passed the fitness exam with a sufficient score!\"\n",
        "        elif average >= 15:\n",
        "            return \"Unfortunately, you did not advance to the next stage, but you can retake the exam.\"\n",
        "        else:\n",
        "            return \"Thank you for participating in the exam. Unfortunately, you cannot retake it.\"\n",
        "\n",
        "class DataProcessor:\n",
        "    def __init__(self):\n",
        "        self.exam = Exam()\n",
        "        self.exam.get_data()\n",
        "        self.average = self.exam.calculate_average()\n",
        "        self.grade = self.exam.get_grade()\n",
        "\n",
        "    def get_average(self):\n",
        "        return self.average\n",
        "\n",
        "    def get_grade(self):\n",
        "        return self.grade\n",
        "\n",
        "    def display_data(self):\n",
        "        print(\"Push-ups: \", self.exam.pushups)\n",
        "        print(\"Pull-ups: \", self.exam.pullups)\n",
        "        print(\"Sit-ups: \", self.exam.situps)\n",
        "        print(\"Average score: \", self.average)\n",
        "        print(\"Grade: \", self.grade)\n",
        "\n",
        "class DataVisualizer:\n",
        "    def __init__(self, data_processor):\n",
        "        self.data_processor = data_processor\n",
        "\n",
        "    def show_chart(self):\n",
        "        pushups = self.data_processor.exam.pushups\n",
        "        pullups = self.data_processor.exam.pullups\n",
        "        situps = self.data_processor.exam.situps\n",
        "\n",
        "        labels = ['Push-ups', 'Pull-ups', 'Sit-ups']\n",
        "        values = [pushups, pullups, situps]\n",
        "        plt.bar(labels, values)\n",
        "        plt.title(\"Fitness Exam Results\")\n",
        "        plt.xlabel(\"Exercise Type\")\n",
        "        plt.ylabel(\"Repetitions\")\n",
        "        plt.show()\n",
        "\n",
        "if __name__ == \"__main__\":\n",
        "    data_processor = DataProcessor()\n",
        "    data_processor.display_data()\n",
        "\n",
        "    data_visualizer = DataVisualizer(data_processor)\n",
        "    data_visualizer.show_chart()\n"
      ],
      "metadata": {
        "colab": {
          "base_uri": "https://localhost:8080/",
          "height": 646
        },
        "id": "AO_jOL5PaBXN",
        "outputId": "0b21aaaa-e177-483f-b638-5093f96fe324"
      },
      "execution_count": 3,
      "outputs": [
        {
          "output_type": "stream",
          "name": "stdout",
          "text": [
            "Enter the number of push-ups performed: 12\n",
            "Too few push-ups. Try again and aim for at least 50 repetitions!\n",
            "Enter the number of push-ups performed: 54\n",
            "Enter the number of pull-ups performed: 66\n",
            "Enter the number of sit-ups performed: 122\n",
            "Push-ups:  54\n",
            "Pull-ups:  66\n",
            "Sit-ups:  122\n",
            "Average score:  80.66666666666667\n",
            "Grade:  Congratulations! You achieved the maximum possible score on the fitness exam!\n"
          ]
        },
        {
          "output_type": "display_data",
          "data": {
            "text/plain": [
              "<Figure size 640x480 with 1 Axes>"
            ],
            "image/png": "[encoded data removed]"
          },
          "metadata": {}
        }
      ]
    }
  ]
}