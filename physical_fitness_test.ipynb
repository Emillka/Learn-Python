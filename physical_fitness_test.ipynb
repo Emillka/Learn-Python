{
  "nbformat": 4,
  "nbformat_minor": 0,
  "metadata": {
    "colab": {
      "provenance": [],
      "authorship_tag": "ABX9TyO/UCzeRfKO+9kaf9nH0Xso",
      "include_colab_link": true
    },
    "kernelspec": {
      "name": "python3",
      "display_name": "Python 3"
    },
    "language_info": {
      "name": "python"
    }
  },
  "cells": [
    {
      "cell_type": "markdown",
      "metadata": {
        "id": "view-in-github",
        "colab_type": "text"
      },
      "source": [
        "<a href=\"https://colab.research.google.com/github/Emillka/Python_learn_projects/blob/main/physical_fitness_test.ipynb\" target=\"_parent\"><img src=\"https://colab.research.google.com/assets/colab-badge.svg\" alt=\"Open In Colab\"/></a>"
      ]
    },
    {
      "cell_type": "code",
      "source": [
        "class Exam:\n",
        "    def __init__(self):\n",
        "        self.pushups = 0\n",
        "        self.pullups = 0\n",
        "        self.situps = 0\n",
        "\n",
        "    def get_data(self):\n",
        "        try:\n",
        "            self.pushups = int(input(\"Wprowadź ilość wykonanych pompek: \"))\n",
        "            if self.pushups < 50:\n",
        "                raise ValueError(\"Zbyt mała ilość wykonanych pompek. Spróbuj popawić wynik i uzyskać co najmniej 50 powtórzeń!\")\n",
        "            self.pullups = int(input(\"Wprowadź ilość wykonanych podciagniec: \"))\n",
        "            if self.pullups < 10:\n",
        "                raise ValueError(\"Zbyt mała ilość wykonanych podciągniec. Spróbuj popawić wynik i uzyskać co najmniej 10 powtórzeń!\")\n",
        "            self.situps = int(input(\"Wprowadź ilość wykonanych przysiadow: \"))\n",
        "            if self.situps < 90:\n",
        "                raise ValueError(\"Zbyt mała ilość wykonanych przysiadow. Spróbuj popawić wynik i uzyskać co najmniej 90 powtórzeń!\")\n",
        "        except ValueError as ve:\n",
        "            print(ve)\n",
        "            self.get_data()\n",
        "\n",
        "    def calculate_average(self):\n",
        "        return (self.pushups + self.pullups + self.situps) / 3\n",
        "\n",
        "    def get_grade(self):\n",
        "        average = self.calculate_average()\n",
        "        if average >= 50:\n",
        "            return \"Gratulacje, uzyskałes maksymalna ilosc punktow do zdobycia na egzaminie sprawnosciowym!\"\n",
        "        elif average >= 30:\n",
        "            return \"Gratulacje, uzyskałes wystarczajaca ilosc punktow na egzaminie sprawnosciowym!\"\n",
        "        elif average >= 15:\n",
        "            return \"Niestety, nie udalo Ci sie przejsc do kolejnego etapu, ale masz szanse poworzyc egzamin.\"\n",
        "        else:\n",
        "            return \"Dziekuejmy za udzial w egzaminie. Niestety nie mozesz podejsc do niego drugi raz\"\n",
        "\n",
        "class DataProcessor:\n",
        "    def __init__(self):\n",
        "        self.exam = Exam()\n",
        "        self.exam.get_data()\n",
        "        self.average = self.exam.calculate_average()\n",
        "        self.grade = self.exam.get_grade()\n",
        "\n",
        "    def get_average(self):\n",
        "        return self.average\n",
        "\n",
        "    def get_grade(self):\n",
        "        return self.grade\n",
        "\n",
        "    def display_data(self):\n",
        "        print(\"Pompki: \", self.exam.pushups)\n",
        "        print(\"Podciagniecia: \", self.exam.pullups)\n",
        "        print(\"Przysiady: \", self.exam.situps)\n",
        "        print(\"Średnia liczba punktow: \", self.average)\n",
        "        print(\"Ocena: \", self.grade)\n",
        "\n",
        "class DataVisualizer:\n",
        "    def __init__(self, data_processor):\n",
        "        self.data_processor = data_processor\n",
        "\n",
        "    def show_chart(self):\n",
        "        import matplotlib.pyplot as plt\n",
        "        pushups = self.data_processor.exam.pushups\n",
        "        pullups = self.data_processor.exam.pullups\n",
        "        situps = self.data_processor.exam.situps\n",
        "\n",
        "        labels = ['Pompki', 'Podciągnięcia', 'Przysiady']\n",
        "        values = [pushups, pullups, situps]\n",
        "        plt.bar(labels, values)\n",
        "        plt.show()\n",
        "\n",
        "data_processor = DataProcessor()\n",
        "data_processor.display_data()\n",
        "\n",
        "data_visualizer = DataVisualizer(data_processor)\n",
        "data_visualizer.show_chart()\n"
      ],
      "metadata": {
        "colab": {
          "base_uri": "https://localhost:8080/",
          "height": 673
        },
        "id": "AO_jOL5PaBXN",
        "outputId": "4afb9ef6-9d88-4b8d-f90f-3dc56810d826"
      },
      "execution_count": 2,
      "outputs": [
        {
          "output_type": "stream",
          "name": "stdout",
          "text": [
            "Wprowadź ilość wykonanych pompek: 40\n",
            "Zbyt mała ilość wykonanych pompek. Spróbuj popawić wynik i uzyskać co najmniej 50 powtórzeń!\n",
            "Wprowadź ilość wykonanych pompek: 50\n",
            "Wprowadź ilość wykonanych podciagniec: 16\n",
            "Wprowadź ilość wykonanych przysiadow: 70\n",
            "Zbyt mała ilość wykonanych przysiadow. Spróbuj popawić wynik i uzyskać co najmniej 90 powtórzeń!\n",
            "Wprowadź ilość wykonanych pompek: 60\n",
            "Wprowadź ilość wykonanych podciagniec: 17\n",
            "Wprowadź ilość wykonanych przysiadow: 99\n",
            "Pompki:  60\n",
            "Podciagniecia:  17\n",
            "Przysiady:  99\n",
            "Średnia liczba punktow:  58.666666666666664\n",
            "Ocena:  Gratulacje, uzyskałes maksymalna ilosc punktow do zdobycia na egzaminie sprawnosciowym!\n"
          ]
        },
        {
          "output_type": "display_data",
          "data": {
            "text/plain": [
              "<Figure size 640x480 with 1 Axes>"
            ],
            "image/png": "[encoded data removed]"
          },
          "metadata": {}
        }
      ]
    }
  ]
}