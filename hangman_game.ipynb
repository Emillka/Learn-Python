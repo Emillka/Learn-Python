{
  "nbformat": 4,
  "nbformat_minor": 0,
  "metadata": {
    "colab": {
      "provenance": [],
      "authorship_tag": "ABX9TyMKC8zqJWhKWyLecY9v6cde",
      "include_colab_link": true
    },
    "kernelspec": {
      "name": "python3",
      "display_name": "Python 3"
    },
    "language_info": {
      "name": "python"
    }
  },
  "cells": [
    {
      "cell_type": "markdown",
      "metadata": {
        "id": "view-in-github",
        "colab_type": "text"
      },
      "source": [
        "<a href=\"https://colab.research.google.com/github/Emillka/Python_learn_projects/blob/main/hangman_game.ipynb\" target=\"_parent\"><img src=\"https://colab.research.google.com/assets/colab-badge.svg\" alt=\"Open In Colab\"/></a>"
      ]
    },
    {
      "cell_type": "code",
      "execution_count": null,
      "metadata": {
        "id": "2MUG66RCGIvQ"
      },
      "outputs": [],
      "source": [
        "#Wisielec\n",
        "\n",
        "import sys\n",
        "number_of_lifes = 5\n",
        "word = \"aplikacja\"\n",
        "#litery użyte przez użytkownika\n",
        "used_letters = []\n",
        "\n",
        "def find_indexes(word,letter):\n",
        "    indexes=[]\n",
        "    for index, letter_in_word in enumerate(word):\n",
        "        if letter == letter_in_word:\n",
        "            indexes.append(index)\n",
        "\n",
        "    return indexes\n",
        "\n",
        "def show_state_of_game():\n",
        "    print()\n",
        "    print(user_word)\n",
        "    print(\"Pozostało prób:\", number_of_lifes)\n",
        "    print(\"Uzyte litery: \",used_letters)\n",
        "    print()\n",
        "#litery w słowie do odgadnięcia w postaci \"_\"\n",
        "user_word = []\n",
        "for letter in word:\n",
        "    user_word.append(\"_\")\n",
        "\n",
        "while True:\n",
        "    letter = input(\"Podaj literę: \")\n",
        "    used_letters.append(letter)\n",
        "    found_indexes = find_indexes(word,letter)\n",
        "\n",
        "    if len(found_indexes)==0:\n",
        "        print(\"Nie ma takiej litery.\")\n",
        "        number_of_lifes -=1\n",
        "\n",
        "\n",
        "        if number_of_lifes ==0:\n",
        "            print(\"Koniec gry!\")\n",
        "            sys.exit(0)\n",
        "    else:\n",
        "        for index in found_indexes:\n",
        "            user_word[index] = letter\n",
        "\n",
        "\n",
        "        if\"\".join(user_word) == word:\n",
        "            print(\"Brawo, to jest to słowo!\")\n",
        "            sys.exit(0)\n",
        "\n",
        "    show_state_of_game()"
      ]
    }
  ]
}