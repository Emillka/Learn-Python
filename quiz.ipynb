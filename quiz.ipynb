{
  "nbformat": 4,
  "nbformat_minor": 0,
  "metadata": {
    "colab": {
      "provenance": [],
      "authorship_tag": "ABX9TyNucl7upcSeqEBs7V+UvEdI",
      "include_colab_link": true
    },
    "kernelspec": {
      "name": "python3",
      "display_name": "Python 3"
    },
    "language_info": {
      "name": "python"
    }
  },
  "cells": [
    {
      "cell_type": "markdown",
      "metadata": {
        "id": "view-in-github",
        "colab_type": "text"
      },
      "source": [
        "<a href=\"https://colab.research.google.com/github/Emillka/Learn-Python/blob/main/quiz.ipynb\" target=\"_parent\"><img src=\"https://colab.research.google.com/assets/colab-badge.svg\" alt=\"Open In Colab\"/></a>"
      ]
    },
    {
      "cell_type": "code",
      "execution_count": 2,
      "metadata": {
        "id": "rVJ2fyTaDwLs",
        "colab": {
          "base_uri": "https://localhost:8080/"
        },
        "outputId": "c47ca1df-5b43-41ce-e6c6-838a80af0736"
      },
      "outputs": [
        {
          "output_type": "stream",
          "name": "stdout",
          "text": [
            "\n",
            "In which year was the State Fire Service established in Poland?\n",
            "a: 1992\n",
            "b: 1894\n",
            "c: 2000\n",
            "d: 2002\n",
            "\n",
            "Which answer do you choose? a\n",
            "That's the correct answer! Well done! You now have 1 points.\n",
            "\n",
            "How many County/Municipal Fire Service Commands operate in Poland?\n",
            "a: 90\n",
            "b: 219\n",
            "c: 432\n",
            "d: 335\n",
            "\n",
            "Which answer do you choose? c\n",
            "Unfortunately, that's the wrong answer. The correct answer is d .\n",
            "\n",
            "What does the abbreviation GBA stand for?\n",
            "a: Light fire truck with a water tank\n",
            "b: Medium fire truck\n",
            "c: Heavy fire truck\n",
            "d: Hydraulic lift\n",
            "\n",
            "Which answer do you choose? b\n",
            "That's the correct answer! Well done! You now have 2 points.\n",
            "\n",
            "The game is over, the number of points scored is 2.\n"
          ]
        }
      ],
      "source": [
        "import json\n",
        "\n",
        "points = 0\n",
        "\n",
        "def show_question(question):\n",
        "    global points\n",
        "    print()\n",
        "    print(question[\"question\"])\n",
        "    print(\"a:\", question[\"a\"])\n",
        "    print(\"b:\", question[\"b\"])\n",
        "    print(\"c:\", question[\"c\"])\n",
        "    print(\"d:\", question[\"d\"])\n",
        "    print()\n",
        "\n",
        "    answer = input(\"Which answer do you choose? \")\n",
        "    if answer == question[\"correct_answer\"]:\n",
        "        points += 1\n",
        "        print(\"That's the correct answer! Well done! You now have\", points, \"points.\")\n",
        "    else:\n",
        "        print(\"Unfortunately, that's the wrong answer. The correct answer is\", question[\"correct_answer\"], \".\")\n",
        "\n",
        "# Quiz data as a JSON string\n",
        "quiz_data = '''\n",
        "[\n",
        "  {\n",
        "    \"question\": \"In which year was the State Fire Service established in Poland?\",\n",
        "    \"a\": 1992,\n",
        "    \"b\": 1894,\n",
        "    \"c\": 2000,\n",
        "    \"d\": 2002,\n",
        "    \"correct_answer\": \"a\"\n",
        "  },\n",
        "  {\n",
        "    \"question\": \"How many County/Municipal Fire Service Commands operate in Poland?\",\n",
        "    \"a\": 90,\n",
        "    \"b\": 219,\n",
        "    \"c\": 432,\n",
        "    \"d\": 335,\n",
        "    \"correct_answer\": \"d\"\n",
        "  },\n",
        "  {\n",
        "    \"question\": \"What does the abbreviation GBA stand for?\",\n",
        "    \"a\": \"Light fire truck with a water tank\",\n",
        "    \"b\": \"Medium fire truck\",\n",
        "    \"c\": \"Heavy fire truck\",\n",
        "    \"d\": \"Hydraulic lift\",\n",
        "    \"correct_answer\": \"b\"\n",
        "  }\n",
        "]\n",
        "'''\n",
        "\n",
        "# Load JSON data\n",
        "questions = json.loads(quiz_data)\n",
        "\n",
        "# Execute the quiz\n",
        "for i in range(0, len(questions)):\n",
        "    show_question(questions[i])\n",
        "\n",
        "print()\n",
        "print(\"The game is over, the number of points scored is \" + str(points) + \".\")\n"
      ]
    }
  ]
}