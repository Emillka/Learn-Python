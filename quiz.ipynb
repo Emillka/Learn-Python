{
  "nbformat": 4,
  "nbformat_minor": 0,
  "metadata": {
    "colab": {
      "provenance": [],
      "authorship_tag": "ABX9TyM0plf/5xOf5oldD+nkUtf9",
      "include_colab_link": true
    },
    "kernelspec": {
      "name": "python3",
      "display_name": "Python 3"
    },
    "language_info": {
      "name": "python"
    }
  },
  "cells": [
    {
      "cell_type": "markdown",
      "metadata": {
        "id": "view-in-github",
        "colab_type": "text"
      },
      "source": [
        "<a href=\"https://colab.research.google.com/github/Emillka/Python_learn_projects/blob/main/quiz.ipynb\" target=\"_parent\"><img src=\"https://colab.research.google.com/assets/colab-badge.svg\" alt=\"Open In Colab\"/></a>"
      ]
    },
    {
      "cell_type": "code",
      "execution_count": null,
      "metadata": {
        "id": "rVJ2fyTaDwLs"
      },
      "outputs": [],
      "source": [
        "import json\n",
        "\n",
        "points = 0\n",
        "\n",
        "def show_question(question):\n",
        "    global points\n",
        "    print()\n",
        "    print(question[\"pytanie\"])\n",
        "    print(\"a:\", question[\"a\"])\n",
        "    print(\"b:\", question[\"b\"])\n",
        "    print(\"c:\", question[\"c\"])\n",
        "    print(\"d:\", question[\"d\"])\n",
        "    print()\n",
        "\n",
        "    answer = input(\"Którą odpowiedź wybierasz? \")\n",
        "    if answer == question[\"prawidlowa_odpowiedz\"]:\n",
        "        points += 1\n",
        "        print(\"To prawidłowa odpowiedź! Brawo! Masz już\", points, \"punktów.\")\n",
        "    else:\n",
        "        print(\"Niestety to zła odpowiedź. Prawidłowa odpowiedź to\", question[\"prawidlowa_odpowiedz\"],\".\")\n",
        "\n",
        "# Dane quizu w formie ciągu znaków JSON\n",
        "quiz_data = '''\n",
        "[\n",
        "  {\n",
        "    \"pytanie\": \"W którym roku powstała Państwowa Straż Pożarna?\",\n",
        "    \"a\": 1992,\n",
        "    \"b\": 1894,\n",
        "    \"c\": 2000,\n",
        "    \"d\": 2002,\n",
        "    \"prawidlowa_odpowiedz\": \"a\"\n",
        "  },\n",
        "  {\n",
        "    \"pytanie\": \"Ile komend Powiatowych/Miejskich PSP funkcjonuje w Polsce?\",\n",
        "    \"a\": 90,\n",
        "    \"b\": 219,\n",
        "    \"c\": 432,\n",
        "    \"d\": 335,\n",
        "    \"prawidlowa_odpowiedz\": \"d\"\n",
        "  },\n",
        "  {\n",
        "    \"pytanie\": \"Co oznacza skrót GBA?\",\n",
        "    \"a\": \"Lekki samochód gaśniczy ze zbiornikiem na wodę\",\n",
        "    \"b\": \"Średni samochód gaśniczy\",\n",
        "    \"c\": \"Ciężki samochód gaśniczy\",\n",
        "    \"d\": \"Podnośnik hydrauliczny\",\n",
        "    \"prawidlowa_odpowiedz\": \"b\"\n",
        "  }\n",
        "]\n",
        "'''\n",
        "\n",
        "# Wczytanie danych JSON\n",
        "questions = json.loads(quiz_data)\n",
        "\n",
        "# Wykonanie quizu\n",
        "for i in range(0, len(questions)):\n",
        "    show_question(questions[i])\n",
        "\n",
        "print()\n",
        "print(\"To koniec gry, liczba zdobytych punktów to \" + str(points) + \".\")\n"
      ]
    }
  ]
}