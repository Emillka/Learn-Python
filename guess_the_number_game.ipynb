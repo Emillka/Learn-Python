{
  "nbformat": 4,
  "nbformat_minor": 0,
  "metadata": {
    "colab": {
      "provenance": [],
      "authorship_tag": "ABX9TyPQKkSjlZeJy/tySicna2c5",
      "include_colab_link": true
    },
    "kernelspec": {
      "name": "python3",
      "display_name": "Python 3"
    },
    "language_info": {
      "name": "python"
    }
  },
  "cells": [
    {
      "cell_type": "markdown",
      "metadata": {
        "id": "view-in-github",
        "colab_type": "text"
      },
      "source": [
        "<a href=\"https://colab.research.google.com/github/Emillka/Learn-Python/blob/main/guess_the_number_game.ipynb\" target=\"_parent\"><img src=\"https://colab.research.google.com/assets/colab-badge.svg\" alt=\"Open In Colab\"/></a>"
      ]
    },
    {
      "cell_type": "code",
      "execution_count": null,
      "metadata": {
        "id": "alV0hnXsGli_"
      },
      "outputs": [],
      "source": [
        "#Guess the number\n",
        "\n",
        "from random import randint\n",
        "\n",
        "los = randint(1,10)\n",
        "odp = -1\n",
        "i=0\n",
        "print(\"guess the number in the range 1-10\")\n",
        "\n",
        "while odp != los:\n",
        "    i+=1\n",
        "    odp = int(input(\"Enter the number: \"))\n",
        "    if  odp > los:\n",
        "        print(\"The number drawn is smaller than yours\")\n",
        "    elif odp < los:\n",
        "        print(\"The number drawn is larger than yours\")\n",
        "print(\"Way to go! You guessed it for \", i , \"time. \")"
      ]
    }
  ]
}