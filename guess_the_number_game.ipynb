{
  "nbformat": 4,
  "nbformat_minor": 0,
  "metadata": {
    "colab": {
      "provenance": [],
      "authorship_tag": "ABX9TyMgUw0+GX189XIATNYD0SlS",
      "include_colab_link": true
    },
    "kernelspec": {
      "name": "python3",
      "display_name": "Python 3"
    },
    "language_info": {
      "name": "python"
    }
  },
  "cells": [
    {
      "cell_type": "markdown",
      "metadata": {
        "id": "view-in-github",
        "colab_type": "text"
      },
      "source": [
        "<a href=\"https://colab.research.google.com/github/Emillka/Learn-Python/blob/main/guess_the_number_game.ipynb\" target=\"_parent\"><img src=\"https://colab.research.google.com/assets/colab-badge.svg\" alt=\"Open In Colab\"/></a>"
      ]
    },
    {
      "cell_type": "code",
      "execution_count": null,
      "metadata": {
        "id": "alV0hnXsGli_",
        "colab": {
          "base_uri": "https://localhost:8080/"
        },
        "outputId": "b763dbef-f9f8-42e4-df8b-bb69666e2e45"
      },
      "outputs": [
        {
          "output_type": "stream",
          "name": "stdout",
          "text": [
            "guess the number in the range 1-10\n"
          ]
        }
      ],
      "source": [
        "from random import randint\n",
        "\n",
        "los = randint(1, 10)\n",
        "odp = -1\n",
        "i = 0\n",
        "print(\"guess the number in the range 1-10\")\n",
        "\n",
        "while odp != los:\n",
        "    i += 1\n",
        "    try:\n",
        "        odp = int(input(\"Enter the number: \"))\n",
        "        if odp > los:\n",
        "            print(\"The number drawn is smaller than yours\")\n",
        "        elif odp < los:\n",
        "            print(\"The number drawn is larger than yours\")\n",
        "    except ValueError:\n",
        "        print(\"Invalid input! Please enter a valid number.\")\n",
        "\n",
        "print(\"Way to go! You guessed it for\", i, \"time.\")"
      ]
    }
  ]
}