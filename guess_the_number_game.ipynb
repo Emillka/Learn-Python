{
  "nbformat": 4,
  "nbformat_minor": 0,
  "metadata": {
    "colab": {
      "provenance": [],
      "authorship_tag": "ABX9TyOUHEYxrJi5od+eJ8o1NoBZ",
      "include_colab_link": true
    },
    "kernelspec": {
      "name": "python3",
      "display_name": "Python 3"
    },
    "language_info": {
      "name": "python"
    }
  },
  "cells": [
    {
      "cell_type": "markdown",
      "metadata": {
        "id": "view-in-github",
        "colab_type": "text"
      },
      "source": [
        "<a href=\"https://colab.research.google.com/github/Emillka/Python_learn_projects/blob/main/guess_the_number_game.ipynb\" target=\"_parent\"><img src=\"https://colab.research.google.com/assets/colab-badge.svg\" alt=\"Open In Colab\"/></a>"
      ]
    },
    {
      "cell_type": "code",
      "execution_count": null,
      "metadata": {
        "id": "alV0hnXsGli_"
      },
      "outputs": [],
      "source": [
        "#Zgadnij liczbę\n",
        "\n",
        "from random import randint\n",
        "\n",
        "los = randint(1,10)\n",
        "odp = -1\n",
        "i=0\n",
        "print(\"Zgadnij liczbę z przedziału 1-10\")\n",
        "\n",
        "while odp != los:\n",
        "    i+=1\n",
        "    odp = int(input(\"Podaj liczbę: \"))\n",
        "    if  odp > los:\n",
        "        print(\"Niestety wylosowana liczba jest mniejsza od Twojej\")\n",
        "    elif odp < los:\n",
        "        print(\"Niestety wylosowana liczba jest większa od Twojej\")\n",
        "print(\"Brawo! Odgadłeś za \", i , \"razem. \")"
      ]
    }
  ]
}