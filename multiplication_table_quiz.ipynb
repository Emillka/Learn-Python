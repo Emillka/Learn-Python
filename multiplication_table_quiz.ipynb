{
  "nbformat": 4,
  "nbformat_minor": 0,
  "metadata": {
    "colab": {
      "provenance": [],
      "authorship_tag": "ABX9TyMdoLgzgYQ9eSwt8q1S0YZM",
      "include_colab_link": true
    },
    "kernelspec": {
      "name": "python3",
      "display_name": "Python 3"
    },
    "language_info": {
      "name": "python"
    }
  },
  "cells": [
    {
      "cell_type": "markdown",
      "metadata": {
        "id": "view-in-github",
        "colab_type": "text"
      },
      "source": [
        "<a href=\"https://colab.research.google.com/github/Emillka/Learn-Python/blob/main/multiplication_table_quiz.ipynb\" target=\"_parent\"><img src=\"https://colab.research.google.com/assets/colab-badge.svg\" alt=\"Open In Colab\"/></a>"
      ]
    },
    {
      "cell_type": "code",
      "execution_count": null,
      "metadata": {
        "id": "qMOqKWCYFcJC",
        "colab": {
          "base_uri": "https://localhost:8080/"
        },
        "outputId": "b88c57b4-7d35-42a6-8426-e420ee2a7a6e"
      },
      "outputs": [
        {
          "output_type": "stream",
          "name": "stdout",
          "text": [
            "Change your multiplication table!\n"
          ]
        }
      ],
      "source": [
        "#Multiplication table\n",
        "\n",
        "import random\n",
        "print('Check your multiplication table!')\n",
        "points = 0\n",
        "for i in range(3):\n",
        "    a= random.randint(1,10)\n",
        "    b= random.randint(1,10)\n",
        "\n",
        "    score = input ('enter the result of the multiplication: '+str(a)+'*'+str(b)+'=')\n",
        "\n",
        "    if int(score)==a*b:\n",
        "        print('Good answer!')\n",
        "        points +=1\n",
        "    else:\n",
        "        print('Wrong answer!')\n",
        "\n",
        "\n",
        "print(f\"Score: {points}\")"
      ]
    }
  ]
}