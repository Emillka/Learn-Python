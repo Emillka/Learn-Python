{
  "nbformat": 4,
  "nbformat_minor": 0,
  "metadata": {
    "colab": {
      "provenance": [],
      "authorship_tag": "ABX9TyMtkp3s9NW5hnmRf1NgkRhj",
      "include_colab_link": true
    },
    "kernelspec": {
      "name": "python3",
      "display_name": "Python 3"
    },
    "language_info": {
      "name": "python"
    }
  },
  "cells": [
    {
      "cell_type": "markdown",
      "metadata": {
        "id": "view-in-github",
        "colab_type": "text"
      },
      "source": [
        "<a href=\"https://colab.research.google.com/github/Emillka/Python_learn_projects/blob/main/multiplication_table_quiz.ipynb\" target=\"_parent\"><img src=\"https://colab.research.google.com/assets/colab-badge.svg\" alt=\"Open In Colab\"/></a>"
      ]
    },
    {
      "cell_type": "code",
      "execution_count": null,
      "metadata": {
        "id": "qMOqKWCYFcJC"
      },
      "outputs": [],
      "source": [
        "#Tabliczka mnozenia\n",
        "\n",
        "import random\n",
        "print('Sprawdź swoją tabliczkę mnożenia!')\n",
        "punkty = 0\n",
        "for i in range(3):\n",
        "    a= random.randint(1,10)\n",
        "    b= random.randint(1,10)\n",
        "\n",
        "    wynik = input ('Podaj wynik mnożenia: '+str(a)+'*'+str(b)+'=')\n",
        "\n",
        "    if int(wynik)==a*b:\n",
        "        print('Dobrze')\n",
        "        punkty +=1\n",
        "    else:\n",
        "        print('Żle')\n",
        "\n",
        "\n",
        "print(f\"Wynik: {punkty}\")"
      ]
    }
  ]
}